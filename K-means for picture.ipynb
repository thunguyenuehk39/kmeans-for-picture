{
 "cells": [
  {
   "cell_type": "code",
   "execution_count": null,
   "id": "ee7c6af8",
   "metadata": {},
   "outputs": [],
   "source": [
    "import numpy as np\n",
    "import matplotlib.pyplot as plt\n",
    "\n",
    "np.random.seed(42)\n",
    "\n",
    "def euclidean_distance(x1,x2):\n",
    "    return np.sqrt(np.sum(x1-x2)**2)\n",
    "\n",
    "class KMeans():\n",
    "    def __init__(self, K = 5, max_iters = 100, plot_steps = False):\n",
    "        self.K = K\n",
    "        self.max_iters = max_iters\n",
    "        self.plot_steps = plot_steps\n",
    "        # list of sample indices for each cluster\n",
    "        self.clusters = [[] for _ in range(self.K)]\n",
    "        # the centers (mean featrure vetor) for each cluster\n",
    "        self.centroids = []\n",
    "        \n",
    "    def predict(self, X):\n",
    "        self.X = X\n",
    "        self.n_samples, self.n_features = X.shape\n",
    "        # initialize\n",
    "        random_sample_idxs = np.random.choice(self.n_samples, self.K, replace = False)\n",
    "        self.centroids = [self.X[idx] for idx in random_sample_idxs]\n",
    "        # Optimize clusters\n",
    "        for i in range(self.max_iters):\n",
    "            print(\"step:\",i)\n",
    "            # Assign samples to closest centroids (create clusters)\n",
    "            self.clusters = self._create_clusters(self.centroids)\n",
    "            print(self.clusters)\n",
    "            if self.plot_steps:\n",
    "                self.plot()\n",
    "                \n",
    "            # calculate new centroids from the clusters\n",
    "            centroids_old = self.centroids\n",
    "            self.centroids = self._get_centroids(self.clusters)\n",
    "            # check if clusters have changed\n",
    "            if self._is_converged(centroids_old, self.centroids):\n",
    "                break\n",
    "            \n",
    "            if self.plot_steps:\n",
    "                self.plot()\n",
    "        # Classify samples as the index of their clusters\n",
    "        return self._get_cluster_labels(self.clusters)\n",
    "    def _get_cluster_labels(self, clusters):\n",
    "        # each sample will get the label of the cluster it was assigned to\n",
    "        labels = np.empty(self.n_samples)\n",
    "        for cluster_idx, cluster in enumerate(clusters):\n",
    "            for sample_index in cluster:\n",
    "                labels[sample_index] = cluster_idx\n",
    "        return labels\n",
    "    def _create_clusters(self, centroids):\n",
    "        # Assign the samples to the closest centroids to create clusters\n",
    "        clusters = [[] for _ in range(self.K)]\n",
    "        for idx, sample in enumerate(self.X):\n",
    "            print(idx, sample)\n",
    "            centroid_idx = self._closest_centroid(sample, centroids)\n",
    "            print(centroid_idx)\n",
    "            clusters[centroid_idx].append(idx)\n",
    "        return clusters\n",
    "    def _closest_centroid(self, sample,centroids):\n",
    "        # distance of the current sample to each centroid\n",
    "        distances = [euclidean_distance(sample, point) for point in centroids]\n",
    "        closest_index = np.argmin(distances)\n",
    "        return closest_index\n",
    "    def _get_centroids(self, clusters):\n",
    "        # assign mean value of clusters to centroids\n",
    "        centroids = np.zeros((self.K, self.n_features))\n",
    "        for cluster_idx, cluster in enumerate(clusters):\n",
    "            cluster_mean = np.mean(self.X[cluster], axis = 0)\n",
    "            centroids[cluster_idx] = cluster_mean\n",
    "        return centroids\n",
    "    def _is_coverged(self, centroids_old, centroids):\n",
    "        # distances between each old and new centroids, for all centroids\n",
    "        distances = [euclidean_distance(centroids_old[i], centroids[i]) for i in range(self.K)]\n",
    "        return sum(distances) == 0\n",
    "    def plot(self):\n",
    "        fig, ax = plt.subplots(figsize=(12,8))\n",
    "        for i, index in enumerate(self.clusters):\n",
    "            point = self.X[index].T\n",
    "            ax.scatter(*point)\n",
    "            \n",
    "        for point in self.centroids:\n",
    "            ax.scatter(*point, marker=\"x\", color=\"black\", linewidth = 2)\n",
    "        plt.show()\n",
    "        \n",
    "    def cent(self):\n",
    "        return self.centroids\n",
    "\n",
    "import cv2\n",
    "image = cv2.imread(\"demo.JPG\")\n",
    "plt.figure(figsize = (6,6))\n",
    "plt.imshow(image)"
   ]
  },
  {
   "cell_type": "code",
   "execution_count": null,
   "id": "66285624",
   "metadata": {},
   "outputs": [],
   "source": [
    "image = cv2.cvtColor(image, cv2.COLOR_BGR2RGB)\n",
    "plt.figure(figsize=(6,6))\n",
    "plt.imshow(image)"
   ]
  },
  {
   "cell_type": "code",
   "execution_count": null,
   "id": "9f9cdcf1",
   "metadata": {},
   "outputs": [],
   "source": [
    "print(image.shape)\n",
    "pixel_values = image.reshape((-1,3))\n",
    "pixel_values = np.float32(pixel_values)\n",
    "print(pixel_values.shape)"
   ]
  },
  {
   "cell_type": "code",
   "execution_count": null,
   "id": "e05c6292",
   "metadata": {},
   "outputs": [],
   "source": [
    "k = KMeans(K = 5, max_iters = 100,plot_steps = True)\n",
    "y_pred = k.predict(pixel_values)\n",
    "k.cent()"
   ]
  },
  {
   "cell_type": "code",
   "execution_count": null,
   "id": "f69b275a",
   "metadata": {},
   "outputs": [],
   "source": [
    "centers = np.unit8(k.cent())\n",
    "centers"
   ]
  },
  {
   "cell_type": "code",
   "execution_count": null,
   "id": "5980e39a",
   "metadata": {},
   "outputs": [],
   "source": [
    "y_pred"
   ]
  },
  {
   "cell_type": "code",
   "execution_count": null,
   "id": "11ad629b",
   "metadata": {},
   "outputs": [],
   "source": [
    "y_pred = y_pred.astype(int)\n",
    "np.unique(y_pred)"
   ]
  },
  {
   "cell_type": "code",
   "execution_count": null,
   "id": "b0e9a08b",
   "metadata": {},
   "outputs": [],
   "source": [
    "labels = y_pred.flatten()\n",
    "segmented_image = centers[labels.flatten()]\n",
    "segmented_image = segmented_image.reshape(image.shape)\n",
    "plt.imshow(segmented_image)\n",
    "plt.show()"
   ]
  },
  {
   "cell_type": "code",
   "execution_count": null,
   "id": "64f53e77",
   "metadata": {},
   "outputs": [],
   "source": [
    "masked_image = np.copy(image)\n",
    "masked_image = masked_image.reshape((-1, 3))\n",
    "cluster = 2\n",
    "masked_image[labels == cluster] = [0, 0, 0]\n",
    "masked_image = masked_image.reshape(image.shape)\n",
    "plt.imshow(masked_image)\n",
    "plt.show()"
   ]
  },
  {
   "cell_type": "markdown",
   "id": "0ed2a0bf",
   "metadata": {},
   "source": [
    "# with library"
   ]
  },
  {
   "cell_type": "code",
   "execution_count": null,
   "id": "bbd13801",
   "metadata": {},
   "outputs": [],
   "source": [
    "import cv2\n",
    "import numpy as np\n",
    "import matplotlib.pyplot as plt\n",
    "# read the image\n",
    "image = cv2.imread(\"demo.JPG\")\n",
    "# convert to RGB\n",
    "image = cv2.cvtColor(image, cv2.COLOR_BGR2RGB)\n",
    "# reshape the image to a 2D array of pixels and 3 color values (RGB)\n",
    "pixel_values = image.reshape((-1, 3))\n",
    "# convert to float\n",
    "pixel_values = np.float32(pixel_values)\n",
    "print(pixel_values.shape)\n",
    "# define stopping criteria\n",
    "criteria = (cv2.TERM_CRITERIA_EPS + cv2.TERM_CRITERIA_MAX_ITER, 100, 0.2)\n",
    "# number of clusters (K)\n",
    "k = 5\n",
    "_, labels, (centers) = cv2.kmeans(pixel_values, k, None, criteria, 10, cv2.KMEANS_RANDOM_CENTERS)\n",
    "# convert back to 8 bit values\n",
    "centers = np.uint8(centers)\n",
    "\n",
    "# flatten the labels array\n",
    "labels = labels.flatten()\n",
    "# convert all pixels to the color of the centroids\n",
    "segmented_image = centers[labels.flatten()]\n",
    "# reshape back to the original image dimension\n",
    "segmented_image = segmented_image.reshape(image.shape)\n",
    "# show the image\n",
    "plt.imshow(segmented_image)\n",
    "plt.show()\n",
    "# disable only the cluster number 2 (turn the pixel into black)\n",
    "masked_image = np.copy(image)\n",
    "# convert to the shape of a vector of pixel values\n",
    "masked_image = masked_image.reshape((-1, 3))\n",
    "# color (i.e cluster) to disable\n",
    "cluster = 2\n",
    "masked_image[labels == cluster] = [0, 0, 0]\n",
    "# convert back to original shape\n",
    "masked_image = masked_image.reshape(image.shape)\n",
    "# show the image\n",
    "plt.imshow(masked_image)\n",
    "plt.show()"
   ]
  },
  {
   "cell_type": "code",
   "execution_count": null,
   "id": "83623b36",
   "metadata": {},
   "outputs": [],
   "source": []
  }
 ],
 "metadata": {
  "kernelspec": {
   "display_name": "Python 3.9.2 ('base')",
   "language": "python",
   "name": "python3"
  },
  "language_info": {
   "codemirror_mode": {
    "name": "ipython",
    "version": 3
   },
   "file_extension": ".py",
   "mimetype": "text/x-python",
   "name": "python",
   "nbconvert_exporter": "python",
   "pygments_lexer": "ipython3",
   "version": "3.9.2"
  },
  "vscode": {
   "interpreter": {
    "hash": "fcf16e9e2febb1d175c5a24ecfc68e05d9464c93aa053788adf32264dee08db3"
   }
  }
 },
 "nbformat": 4,
 "nbformat_minor": 5
}
